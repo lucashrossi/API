{
 "cells": [
  {
   "attachments": {},
   "cell_type": "markdown",
   "metadata": {},
   "source": [
    "# Entregable 2 de CoderHouse:\n",
    "API: https://api-docs.luchtmeetnet.nl/#6ac38ef4-5d43-4d9b-b0b9-69b2d00e6f4c"
   ]
  },
  {
   "cell_type": "code",
   "execution_count": null,
   "metadata": {},
   "outputs": [],
   "source": [
    "%pip install sqlalchemy\n",
    "%pip install psycopg2-binary\n",
    "%pip install requests\n"
   ]
  },
  {
   "cell_type": "code",
   "execution_count": null,
   "metadata": {},
   "outputs": [],
   "source": [
    "url=\"data-engineer-cluster.cyhh5bfevlmn.us-east-1.redshift.amazonaws\"\n",
    "port=\"5439\"\n",
    "data_base=\"data-engineer-database\"\n",
    "user=\"hgr79_coderhouse\"\n",
    "pwd=\"kye79Z96x3Xe\"\n",
    "\n",
    "# with open(\"/Users/hernangonzalez/Downloads/pwd_coder.txt\",'r') as f:\n",
    "#     pwd= f.read()"
   ]
  },
  {
   "cell_type": "code",
   "execution_count": null,
   "metadata": {},
   "outputs": [],
   "source": [
    "from sqlalchemy import create_engine\n",
    "import psycopg2.extensions\n",
    "psycopg2.extensions.register_type(psycopg2.extensions.UNICODE)\n",
    "import pandas as pd\n",
    "\n",
    "#conn = create_engine(f'postgresql://{user}:{pwd}@{url}.com:5439/{data_base}')\n",
    "# conn = create_engine(url=url, user=user, pwd=pwd, port=port, database=data_base)"
   ]
  },
  {
   "cell_type": "code",
   "execution_count": null,
   "metadata": {},
   "outputs": [],
   "source": [
    "try:\n",
    "    conn = psycopg2.connect(\n",
    "        host='data-engineer-cluster.cyhh5bfevlmn.us-east-1.redshift.amazonaws.com',\n",
    "        dbname=data_base,\n",
    "        user=user,\n",
    "        password=pwd,\n",
    "        port='5439'\n",
    "    )\n",
    "    print(\"Connected to Redshift successfully!\")\n",
    "    \n",
    "    # Do some work with the connection here...\n",
    "    \n",
    "except Exception as e:\n",
    "    print(\"Unable to connect to Redshift.\")\n",
    "    print(e)"
   ]
  },
  {
   "cell_type": "code",
   "execution_count": null,
   "metadata": {},
   "outputs": [],
   "source": [
    "conn"
   ]
  },
  {
   "cell_type": "code",
   "execution_count": null,
   "metadata": {},
   "outputs": [],
   "source": [
    "import requests\n",
    "\n",
    "headers = {\"Accept-Encoding\": \"gzip, deflate\"}\n",
    "#response = requests.get(\"https://api.luchtmeetnet.nl/open_api/measurements?start=2018-12-01T09%3A00%3A00Z&end=2018-12-02T09%3A00%3A00Z&station_number=&formula=&page=&order_by=timestamp_measured&order_direction=desc\")\n",
    "response = requests.get(\"https://api.luchtmeetnet.nl/open_api/measurements?station_number=&formula=&page=1&order_by=timestamp_measured&order_direction=desc\",headers=headers)\n",
    "print(response)\n",
    "file_name = response.json()\n",
    "file_name"
   ]
  },
  {
   "cell_type": "code",
   "execution_count": null,
   "metadata": {},
   "outputs": [],
   "source": [
    "print(type(file_name))\n",
    "datax=file_name['data']\n",
    "df = pd.DataFrame.from_dict(datax)\n",
    "df"
   ]
  },
  {
   "cell_type": "code",
   "execution_count": null,
   "metadata": {},
   "outputs": [],
   "source": [
    "df.drop(df.index[50:1000], inplace=True)\n",
    "#df.drop(columns=['timestamp_measured'])"
   ]
  },
  {
   "cell_type": "code",
   "execution_count": null,
   "metadata": {},
   "outputs": [],
   "source": [
    "\n",
    "df.insert(0,'id','')\n",
    "df['id']=df.index+1\n",
    "#df=df.reset_index(drop=False)\n",
    "#df.rename(columns = {'index':'id'}, inplace = True)\n",
    "df[\"timestamp_measured\"] = pd.to_datetime(df[\"timestamp_measured\"])\n",
    "df[\"station_number\"] = df[\"station_number\"].astype(\"string\")\n",
    "df[\"formula\"] = df[\"formula\"].astype(\"string\")\n",
    "\n",
    "print(df.shape)\n",
    "print(df.dtypes)\n",
    "print(df.info())\n",
    "df.describe\n"
   ]
  },
  {
   "cell_type": "code",
   "execution_count": null,
   "metadata": {},
   "outputs": [],
   "source": [
    "cur = conn.cursor()\n",
    "# Execute a SQL query to select data from a table\n",
    "cur.execute(\"SELECT * FROM aq\")\n",
    "# Fetch the results\n",
    "results = cur.fetchall()\n",
    "results"
   ]
  },
  {
   "cell_type": "code",
   "execution_count": null,
   "metadata": {},
   "outputs": [],
   "source": [
    "from psycopg2.extras import execute_values\n",
    "cur = conn.cursor()\n",
    "\n",
    "table_name = 'aq'\n",
    "# Define the columns you want to insert data into\n",
    "columns = ['id', 'station_number', 'value', 'timestamp_measured','formula']\n",
    "# Convert the DataFrame to a list of tuples\n",
    "values = [tuple(x) for x in df.to_numpy()]\n",
    "insert_sql = f\"INSERT INTO {table_name} ({', '.join(columns)}) VALUES %s\"\n",
    "# Execute the INSERT statement using execute_values\n",
    "cur.execute(\"BEGIN\")\n",
    "execute_values(cur, insert_sql, values)\n",
    "cur.execute(\"COMMIT\")\n",
    "# Close the cursor and connection\n",
    "cur.close()\n",
    "conn.close()"
   ]
  }
 ],
 "metadata": {
  "kernelspec": {
   "display_name": "Python 3",
   "language": "python",
   "name": "python3"
  },
  "language_info": {
   "codemirror_mode": {
    "name": "ipython",
    "version": 3
   },
   "file_extension": ".py",
   "mimetype": "text/x-python",
   "name": "python",
   "nbconvert_exporter": "python",
   "pygments_lexer": "ipython3",
   "version": "3.9.12"
  },
  "orig_nbformat": 4
 },
 "nbformat": 4,
 "nbformat_minor": 2
}
